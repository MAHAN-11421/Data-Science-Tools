{
 "cells": [
  {
   "cell_type": "markdown",
   "id": "a262c9ce-e49c-40be-a503-066f360ec3e6",
   "metadata": {},
   "source": [
    "# Data Science Tools and Ecosystem"
   ]
  },
  {
   "cell_type": "markdown",
   "id": "345bf928-d812-4653-9f90-29e88ba7ca7f",
   "metadata": {},
   "source": [
    "In this notebook, Data Science Tools and Ecosystem are summarized."
   ]
  },
  {
   "cell_type": "markdown",
   "id": "1554ae2e-8779-4949-bb1e-78747d7ed1a7",
   "metadata": {},
   "source": [
    "**Objectives:**\n",
    "+ List popular languages that Data Scientists use\n",
    "+ Commanly used libraries used by Data Scientists\n",
    "+ Data Science Tools\n",
    "+ Few Arithmetic operations"
   ]
  },
  {
   "cell_type": "markdown",
   "id": "3f01f6d7-9fc3-4e8e-a3c8-4927d2fdc715",
   "metadata": {},
   "source": [
    "Some of the popular languages that Data Scientists use are:\n",
    "1. Python\n",
    "2. R\n",
    "3. Julia\n",
    "4. SQL"
   ]
  },
  {
   "cell_type": "markdown",
   "id": "0ba865bc-dbee-4a05-b4dc-2816884410b9",
   "metadata": {},
   "source": [
    "Some of the commonly used libraries used by Data Scientists include:\n",
    "1. Numpy\n",
    "2. Pandas\n",
    "3. Matplotlib\n",
    "4. Seaborn\n",
    "5. Keras\n",
    "6. TensorFlow"
   ]
  },
  {
   "cell_type": "markdown",
   "id": "c678a8ec-f9f4-4177-9243-c8490511cac6",
   "metadata": {},
   "source": [
    "|Data Science Tools|\n",
    "|------------------|\n",
    "|Jupyter Notebook|\n",
    "|RStudio|\n",
    "|PyCharm|\n",
    "|Google Collab|"
   ]
  },
  {
   "cell_type": "markdown",
   "id": "f5123efc-0a9b-4c63-b7b2-0d961faad34b",
   "metadata": {},
   "source": [
    "### Below are a few examples of evaluating arithmetic expressions in Python"
   ]
  },
  {
   "cell_type": "code",
   "execution_count": 6,
   "id": "dd756d67-8aee-455b-8899-aac9b8d49f8d",
   "metadata": {},
   "outputs": [
    {
     "data": {
      "text/plain": [
       "17"
      ]
     },
     "execution_count": 6,
     "metadata": {},
     "output_type": "execute_result"
    }
   ],
   "source": [
    "#This a simple arithmetic expression to mutiply then add integers\n",
    "(3*4)+5"
   ]
  },
  {
   "cell_type": "code",
   "execution_count": 7,
   "id": "9a052038-69c1-4cea-b656-6bf21713e653",
   "metadata": {},
   "outputs": [
    {
     "data": {
      "text/plain": [
       "3.3333333333333335"
      ]
     },
     "execution_count": 7,
     "metadata": {},
     "output_type": "execute_result"
    }
   ],
   "source": [
    "#This will convert 200 minutes to hours by diving by 60\n",
    "200/60"
   ]
  },
  {
   "cell_type": "markdown",
   "id": "23e459f4-ba4e-4955-8733-01d81e41ee98",
   "metadata": {},
   "source": [
    "## Author\n",
    "Maneendra Mahan Bhimireddy"
   ]
  },
  {
   "cell_type": "code",
   "execution_count": null,
   "id": "600bb462-3300-48af-8c78-4a03cd830d67",
   "metadata": {},
   "outputs": [],
   "source": []
  }
 ],
 "metadata": {
  "kernelspec": {
   "display_name": "Python 3 (ipykernel)",
   "language": "python",
   "name": "python3"
  },
  "language_info": {
   "codemirror_mode": {
    "name": "ipython",
    "version": 3
   },
   "file_extension": ".py",
   "mimetype": "text/x-python",
   "name": "python",
   "nbconvert_exporter": "python",
   "pygments_lexer": "ipython3",
   "version": "3.9.12"
  }
 },
 "nbformat": 4,
 "nbformat_minor": 5
}
